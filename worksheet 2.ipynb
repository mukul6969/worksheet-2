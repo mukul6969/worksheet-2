{
 "cells": [
  {
   "cell_type": "markdown",
   "metadata": {},
   "source": [
    "# machine learning answers"
   ]
  },
  {
   "cell_type": "code",
   "execution_count": null,
   "metadata": {},
   "outputs": [],
   "source": [
    "1.b\n",
    "2.d\n",
    "3.a\n",
    "4.a\n",
    "5.b.\n",
    "6.b\n",
    "7.a\n",
    "8.d\n",
    "9.a\n",
    "10.d\n",
    "11.d"
   ]
  },
  {
   "cell_type": "code",
   "execution_count": null,
   "metadata": {},
   "outputs": [],
   "source": [
    "ans12. yes Ksensitive to the outliers because mean is easily influenced by extreme values \n",
    "ans13. it means algorithm can be improved by using better intialization technique and by repeating the algorithm k means can improve the reult of intialization technique.\n",
    "ans14. No k means clustering is based on non deterministic algorithm this mean that running algorithm several times on the same data could give different result"
   ]
  },
  {
   "cell_type": "markdown",
   "metadata": {},
   "source": [
    "# SQL Answer"
   ]
  },
  {
   "cell_type": "code",
   "execution_count": null,
   "metadata": {},
   "outputs": [],
   "source": [
    "1.d\n",
    "2.a\n",
    "3.c\n",
    "4.d\n",
    "5.d\n",
    "6.b\n",
    "7.a\n",
    "8.d\n",
    "9.a\n",
    "10.c\n",
    "11.a\n",
    "12.b\n",
    "13.a\n",
    "14.b,c,d\n",
    "15.a,b,d\n"
   ]
  },
  {
   "cell_type": "markdown",
   "metadata": {},
   "source": [
    "# statistics"
   ]
  },
  {
   "cell_type": "code",
   "execution_count": null,
   "metadata": {},
   "outputs": [],
   "source": [
    "1.c\n",
    "2.c\n",
    "3.d\n",
    "4.c\n",
    "5.d\n",
    "6.b\n",
    "7.a\n",
    "8.b\n",
    "9.d\n",
    "10.a\n",
    "11.d\n",
    "12.d\n",
    "13.c\n",
    "14.a\n",
    "15.b"
   ]
  }
 ],
 "metadata": {
  "kernelspec": {
   "display_name": "Python 2",
   "language": "python",
   "name": "python2"
  },
  "language_info": {
   "codemirror_mode": {
    "name": "ipython",
    "version": 2
   },
   "file_extension": ".py",
   "mimetype": "text/x-python",
   "name": "python",
   "nbconvert_exporter": "python",
   "pygments_lexer": "ipython2",
   "version": "2.7.16"
  }
 },
 "nbformat": 4,
 "nbformat_minor": 2
}
